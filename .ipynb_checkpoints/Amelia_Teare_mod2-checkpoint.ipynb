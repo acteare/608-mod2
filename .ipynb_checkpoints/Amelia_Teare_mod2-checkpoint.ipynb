{
 "cells": [
  {
   "cell_type": "markdown",
   "id": "1631d51f-9998-4f87-b30e-945272f486b8",
   "metadata": {},
   "source": [
    "## 3.2 Algorithms\n",
    "\n",
    "An algoritm is a procedure for solving a problem. It specifies the actions to execute and the order in which they execute"
   ]
  },
  {
   "cell_type": "markdown",
   "id": "1ea7face-6fa7-42f0-a2e4-de6693bce9d2",
   "metadata": {},
   "source": [
    "## 3.3 Pseudocode\n",
    "\n",
    "Pseudocode is NOT a programming language. It is a way of thinking out algorithms before converting to python code. "
   ]
  },
  {
   "cell_type": "markdown",
   "id": "01fffaa8-9b62-4493-b0d1-2203ad32823e",
   "metadata": {
    "tags": []
   },
   "source": [
    "## 3.4 Control Statements\n",
    "\n",
    "Sequential execution: Statements that are executed one right after the other\n",
    "\n",
    "Selection Statement: Execute code based on a condition that evaluates to either true or false. \n",
    "    \n",
    "    If\n",
    "    if..else\n",
    "    if... elif.. else\n",
    "\n",
    "Repitition statements\n",
    "    \n",
    "    While: Repeats an action as long as a condition remains true\n",
    "    For: Repeats an action for every item in a sequence of items\n",
    "\n",
    "### Flowcharts\n",
    "    Graphical representation of an algorithm or a part of one. \n",
    "    \n",
    "Rectangles: Used to indicate any action such as a calculation or an input/output operation\n",
    "\n",
    "Diamonds: Indicates a decision is to be nade, such as an if statement\n",
    "\n",
    "Rounded rectangles: \"Begin\" and \"End\" for a complete algorithm\n",
    "\n",
    "Small circles:Connector symbols\n",
    "\n",
    "Arrows / flowlines: Shows the order in which the action executes"
   ]
  },
  {
   "cell_type": "markdown",
   "id": "d7483765-f3fc-47ab-955b-9fa302678d26",
   "metadata": {},
   "source": [
    "## 3.5 If Statements\n",
    "\n",
    "If student's grade is greater than or equal to 60, Display 'Passed'"
   ]
  },
  {
   "cell_type": "code",
   "execution_count": 1,
   "id": "8d1170fd-4d7c-4bd7-95c6-aa70c35b2f9f",
   "metadata": {},
   "outputs": [],
   "source": [
    "grade = 85"
   ]
  },
  {
   "cell_type": "code",
   "execution_count": 2,
   "id": "d4cb3c60-3954-43bd-99cd-05b4b46dc277",
   "metadata": {},
   "outputs": [
    {
     "name": "stdout",
     "output_type": "stream",
     "text": [
      "passed\n"
     ]
    }
   ],
   "source": [
    "if grade >= 60:\n",
    "    print('passed')"
   ]
  },
  {
   "cell_type": "markdown",
   "id": "c37f988f-baad-4e77-87ec-4e586c298552",
   "metadata": {},
   "source": [
    "The action to occur if a statement is met MUST be indented after the conditional statement or you will recieve an IndentationError syntax error"
   ]
  },
  {
   "cell_type": "markdown",
   "id": "ba24c57e-6415-4e7c-bcba-c49ec06e8040",
   "metadata": {},
   "source": [
    "\"==\" and \"=\" are different in python code. \"==\" is the equality operator. \"=\" is an assignment statement. "
   ]
  },
  {
   "cell_type": "code",
   "execution_count": 3,
   "id": "f55c12d0-2bf0-4583-b6ba-61cceab56336",
   "metadata": {},
   "outputs": [],
   "source": [
    "grade = 55"
   ]
  },
  {
   "cell_type": "code",
   "execution_count": 4,
   "id": "5fe64a45-bb34-432c-b337-a795db3cdb06",
   "metadata": {},
   "outputs": [],
   "source": [
    "if grade >= 60:\n",
    "    print('passed')"
   ]
  },
  {
   "cell_type": "markdown",
   "id": "580b7321-2f3b-4245-be77-76a32941323a",
   "metadata": {},
   "source": [
    "(55 is not greater than 60, therefore nothing was printed)"
   ]
  },
  {
   "cell_type": "markdown",
   "id": "2e4a6dc6-3fae-4470-befe-908cc51fb45d",
   "metadata": {
    "tags": []
   },
   "source": [
    "## 3.6 if..else and if...elif...else Statements\n",
    "\n",
    "The if...else statement performs different suites, based on whether a condition is True or False"
   ]
  },
  {
   "cell_type": "markdown",
   "id": "3bc15ec8-09a7-499a-b5a1-6df1e08c67d1",
   "metadata": {},
   "source": [
    "If student's grade is greater than or equal to 60, display 'Passed'. Else, Display 'Failed'"
   ]
  },
  {
   "cell_type": "code",
   "execution_count": 5,
   "id": "56b042d4-d031-4765-9668-44df7d06f502",
   "metadata": {},
   "outputs": [],
   "source": [
    "grade = 85"
   ]
  },
  {
   "cell_type": "code",
   "execution_count": 6,
   "id": "83666fc9-4da9-4ec1-bd6f-24eade69becc",
   "metadata": {},
   "outputs": [
    {
     "name": "stdout",
     "output_type": "stream",
     "text": [
      "Passed\n"
     ]
    }
   ],
   "source": [
    "if grade >= 60:\n",
    "    print('Passed')\n",
    "else:\n",
    "    print('Failed')"
   ]
  },
  {
   "cell_type": "code",
   "execution_count": 7,
   "id": "05549e2e-25da-4e5d-b229-f0a8d5448de8",
   "metadata": {},
   "outputs": [],
   "source": [
    "grade = 57"
   ]
  },
  {
   "cell_type": "code",
   "execution_count": 8,
   "id": "f0dc0c4f-c3c2-40ae-9899-86d9ca76d56d",
   "metadata": {},
   "outputs": [
    {
     "name": "stdout",
     "output_type": "stream",
     "text": [
      "Failed\n"
     ]
    }
   ],
   "source": [
    "if grade >= 60:\n",
    "    print('Passed')\n",
    "else:\n",
    "    print('Failed')"
   ]
  },
  {
   "cell_type": "markdown",
   "id": "c92f264e-5528-46df-8874-1ae27a2f5968",
   "metadata": {},
   "source": [
    "The if...else statement can also be used to assign different values to a variable, based on a condition:"
   ]
  },
  {
   "cell_type": "code",
   "execution_count": 9,
   "id": "a7181557-a3ea-4dc8-9dd9-41816f086887",
   "metadata": {},
   "outputs": [],
   "source": [
    "grade = 87"
   ]
  },
  {
   "cell_type": "code",
   "execution_count": 10,
   "id": "5f574f4e-213f-4cc4-98c5-f1f0ccd20475",
   "metadata": {},
   "outputs": [],
   "source": [
    "if grade >= 60:\n",
    "    result = 'Passed'\n",
    "else:\n",
    "    result = 'Failed'"
   ]
  },
  {
   "cell_type": "code",
   "execution_count": 11,
   "id": "863cedba-739a-49ad-b0bc-51e1bf37ec31",
   "metadata": {},
   "outputs": [
    {
     "data": {
      "text/plain": [
       "'Passed'"
      ]
     },
     "execution_count": 11,
     "metadata": {},
     "output_type": "execute_result"
    }
   ],
   "source": [
    "result"
   ]
  },
  {
   "cell_type": "markdown",
   "id": "62610820-6bd1-4110-96b1-59515419c16d",
   "metadata": {},
   "source": [
    "You can also make things more concise with the use of parentheses"
   ]
  },
  {
   "cell_type": "code",
   "execution_count": 12,
   "id": "6c91202b-259e-4009-85fb-db9066788202",
   "metadata": {},
   "outputs": [],
   "source": [
    "result = ('Passed' if grade >= 60 else 'Failed')"
   ]
  },
  {
   "cell_type": "code",
   "execution_count": 13,
   "id": "dc77b551-c357-4e55-9c5c-8c08637a75fd",
   "metadata": {},
   "outputs": [
    {
     "data": {
      "text/plain": [
       "'Passed'"
      ]
     },
     "execution_count": 13,
     "metadata": {},
     "output_type": "execute_result"
    }
   ],
   "source": [
    "result"
   ]
  },
  {
   "cell_type": "markdown",
   "id": "73b0cfb3-5e2c-4fe7-9059-3c86bf6bfc4c",
   "metadata": {},
   "source": [
    "if...elif...else statements allow you to test for many cases"
   ]
  },
  {
   "cell_type": "code",
   "execution_count": 14,
   "id": "3385c942-c595-4123-ab28-a946e4832beb",
   "metadata": {},
   "outputs": [],
   "source": [
    "grade = 77"
   ]
  },
  {
   "cell_type": "code",
   "execution_count": 15,
   "id": "cc3b6b67-4cff-4424-b494-c9971b153198",
   "metadata": {},
   "outputs": [
    {
     "name": "stdout",
     "output_type": "stream",
     "text": [
      "C\n"
     ]
    }
   ],
   "source": [
    "if grade >= 90:\n",
    "    print('A')\n",
    "elif grade >= 80:\n",
    "    print('B')\n",
    "elif grade >= 70:\n",
    "    print('C')\n",
    "elif grade >= 60:\n",
    "    print('D')\n",
    "else:\n",
    "    print('F')"
   ]
  },
  {
   "cell_type": "markdown",
   "id": "aee83447-1d8e-4ff5-b1d5-f42b0e37edc8",
   "metadata": {},
   "source": [
    "Notice how everything gets a condition EXCEPT for else. 'Else:' should never have anything next to it. "
   ]
  },
  {
   "cell_type": "markdown",
   "id": "a15ab3c3-bb80-47cc-849a-a4b1cc59e716",
   "metadata": {},
   "source": [
    "## 3.7 While Statement"
   ]
  },
  {
   "cell_type": "code",
   "execution_count": 16,
   "id": "5a231a77-3bce-4a11-8b87-cf077c3d70ba",
   "metadata": {},
   "outputs": [],
   "source": [
    "product = 3"
   ]
  },
  {
   "cell_type": "code",
   "execution_count": 17,
   "id": "e04e0bbb-f3d5-4f8c-8918-24bd01be5b6e",
   "metadata": {},
   "outputs": [],
   "source": [
    "while product <= 50:\n",
    "    product = product * 3"
   ]
  },
  {
   "cell_type": "code",
   "execution_count": 18,
   "id": "72b7b0b1-c14d-4ae6-80d4-e3c121d345f7",
   "metadata": {},
   "outputs": [
    {
     "data": {
      "text/plain": [
       "81"
      ]
     },
     "execution_count": 18,
     "metadata": {},
     "output_type": "execute_result"
    }
   ],
   "source": [
    "product"
   ]
  },
  {
   "cell_type": "markdown",
   "id": "403ae7d7-5674-4937-8963-24bd4456db92",
   "metadata": {},
   "source": [
    "Self Check"
   ]
  },
  {
   "cell_type": "code",
   "execution_count": 19,
   "id": "33d5a886-c4cd-4e0e-b2e6-2a10ea6c8901",
   "metadata": {},
   "outputs": [],
   "source": [
    "product = 7"
   ]
  },
  {
   "cell_type": "code",
   "execution_count": 20,
   "id": "838690a1-b8bb-4d2d-85c9-92b1215f785d",
   "metadata": {},
   "outputs": [],
   "source": [
    "while product <= 1000:\n",
    "    product = product * 7"
   ]
  },
  {
   "cell_type": "code",
   "execution_count": 21,
   "id": "94b719bc-50be-4981-a31b-b54e8b676c53",
   "metadata": {},
   "outputs": [
    {
     "data": {
      "text/plain": [
       "2401"
      ]
     },
     "execution_count": 21,
     "metadata": {},
     "output_type": "execute_result"
    }
   ],
   "source": [
    "product"
   ]
  },
  {
   "cell_type": "markdown",
   "id": "34d8827a-f580-4eb8-9d31-7add0ce58c2f",
   "metadata": {},
   "source": [
    "## 3.8 For Statement"
   ]
  },
  {
   "cell_type": "code",
   "execution_count": 22,
   "id": "42c62da3-e594-4cf8-be4f-963aae8620ce",
   "metadata": {},
   "outputs": [
    {
     "name": "stdout",
     "output_type": "stream",
     "text": [
      "P r o g r a m m i n g "
     ]
    }
   ],
   "source": [
    "for character in 'Programming':\n",
    "    print(character, end=' ')"
   ]
  },
  {
   "cell_type": "markdown",
   "id": "0be5b0b8-bf2a-44ba-a8da-57613cd4704d",
   "metadata": {},
   "source": [
    "The next example shows how you can add together numbers in a list. This list is confined within square brackets."
   ]
  },
  {
   "cell_type": "code",
   "execution_count": 23,
   "id": "acfb0317-4243-4d2c-b9b5-eeb67fff0c64",
   "metadata": {},
   "outputs": [],
   "source": [
    "total = 0"
   ]
  },
  {
   "cell_type": "code",
   "execution_count": 24,
   "id": "726178f1-a721-48b9-af4a-f1250ef29f9e",
   "metadata": {},
   "outputs": [],
   "source": [
    "for number in [2, -3, 0, 17, 9]:\n",
    "    total = total + number"
   ]
  },
  {
   "cell_type": "code",
   "execution_count": 25,
   "id": "b7502e9c-b754-450d-8a9f-923a3e56f3da",
   "metadata": {},
   "outputs": [
    {
     "data": {
      "text/plain": [
       "25"
      ]
     },
     "execution_count": 25,
     "metadata": {},
     "output_type": "execute_result"
    }
   ],
   "source": [
    "total"
   ]
  },
  {
   "cell_type": "markdown",
   "id": "4cffb8ab-1b0d-4a38-89ca-c39766ca1976",
   "metadata": {},
   "source": [
    "The next example shows the use of python's built-in range function. "
   ]
  },
  {
   "cell_type": "code",
   "execution_count": 26,
   "id": "b7f1221c-e15e-433d-82f5-9c372f7bd4a3",
   "metadata": {},
   "outputs": [
    {
     "name": "stdout",
     "output_type": "stream",
     "text": [
      "0 1 2 3 4 5 6 7 8 9 "
     ]
    }
   ],
   "source": [
    "for counter in range(10):\n",
    "    print(counter, end=' ')"
   ]
  },
  {
   "cell_type": "markdown",
   "id": "240fca5c-b7c7-42d0-a776-4499ef1797dc",
   "metadata": {},
   "source": [
    "Note that a range of 10 does not include the number 10. This is because 0 counts as the first number. "
   ]
  },
  {
   "cell_type": "markdown",
   "id": "acc802ed-1300-4e9c-92b9-c6c9a7d005ce",
   "metadata": {},
   "source": [
    "Self Check"
   ]
  },
  {
   "cell_type": "code",
   "execution_count": 27,
   "id": "e9e8b1ab-e5f0-4c28-8812-82cb9ed1001a",
   "metadata": {},
   "outputs": [],
   "source": [
    "total = 0"
   ]
  },
  {
   "cell_type": "code",
   "execution_count": 28,
   "id": "14e15a67-1e7c-4846-be86-8606e8bba30d",
   "metadata": {},
   "outputs": [],
   "source": [
    "for number in range(1000000):\n",
    "    total = total + number"
   ]
  },
  {
   "cell_type": "code",
   "execution_count": 29,
   "id": "be89c379-c375-4db1-a397-ce14dd028a59",
   "metadata": {},
   "outputs": [
    {
     "data": {
      "text/plain": [
       "499999500000"
      ]
     },
     "execution_count": 29,
     "metadata": {},
     "output_type": "execute_result"
    }
   ],
   "source": [
    "total"
   ]
  },
  {
   "cell_type": "markdown",
   "id": "b3311843-00bc-4625-ad50-bffa2f1c4eb3",
   "metadata": {},
   "source": [
    "## 3.9 Augmented Assignments\n",
    "    Abbreviated assignment expressions in which the same variable name appears on the left and right of the assignment's ="
   ]
  },
  {
   "cell_type": "code",
   "execution_count": 30,
   "id": "19178c8c-1cfb-4c25-b7db-eceb2965614b",
   "metadata": {},
   "outputs": [],
   "source": [
    "for number in [1, 2, 3, 4, 5]:\n",
    "    total = total + number"
   ]
  },
  {
   "cell_type": "markdown",
   "id": "22f4a097-5f15-4629-a1e5-575b9821e450",
   "metadata": {},
   "source": [
    "Can also be written..."
   ]
  },
  {
   "cell_type": "code",
   "execution_count": 31,
   "id": "3cf34a03-e65b-4e7b-b566-6f665b286b1e",
   "metadata": {},
   "outputs": [],
   "source": [
    "for number in [1, 2, 3, 4, 5]:\n",
    "    total += number"
   ]
  },
  {
   "cell_type": "markdown",
   "id": "69396b2a-b360-41a8-9298-e15b0a7ee586",
   "metadata": {},
   "source": [
    "Self Check"
   ]
  },
  {
   "cell_type": "markdown",
   "id": "fe260728-03c4-4db6-93f1-f97671b5bb54",
   "metadata": {},
   "source": [
    "If x is 7, the value of x after evaluating x *= 5 is...\n",
    "\n",
    "x*=5 is the same as x = x*5\n",
    "\n",
    "x = 7*5\n",
    "\n",
    "Therefore, the answer is 35"
   ]
  },
  {
   "cell_type": "code",
   "execution_count": 32,
   "id": "46bcb305-6ffc-41a7-beba-cd7e303085bb",
   "metadata": {},
   "outputs": [],
   "source": [
    "x = 12"
   ]
  },
  {
   "cell_type": "code",
   "execution_count": 33,
   "id": "255916a3-8b29-4901-a931-0f4e893d01f2",
   "metadata": {},
   "outputs": [],
   "source": [
    "x**=2"
   ]
  },
  {
   "cell_type": "code",
   "execution_count": 34,
   "id": "6173fd6e-3f7b-43db-8972-2d3fa102fff4",
   "metadata": {},
   "outputs": [
    {
     "data": {
      "text/plain": [
       "144"
      ]
     },
     "execution_count": 34,
     "metadata": {},
     "output_type": "execute_result"
    }
   ],
   "source": [
    "x"
   ]
  },
  {
   "cell_type": "markdown",
   "id": "4f3b6011-ef68-4f89-be72-ec7c654b5e74",
   "metadata": {},
   "source": [
    "## 3.10 Program Development: Sequence-Controlled Repetition\n",
    "    A class of ten students took a quiz. Their grades (integers in the range 0 - 100) are 98, 76, 71, 87, 83, 90, 57, 79, 82, 94. Determine the class average on the quiz."
   ]
  },
  {
   "cell_type": "code",
   "execution_count": 35,
   "id": "df3b53db-72b4-4be1-ada6-3615d984e3b4",
   "metadata": {},
   "outputs": [],
   "source": [
    "# initialization phase"
   ]
  },
  {
   "cell_type": "code",
   "execution_count": 36,
   "id": "b14cb9b4-870e-4803-bf70-e4e059a3b7ee",
   "metadata": {},
   "outputs": [],
   "source": [
    "total = 0 #sum of grades"
   ]
  },
  {
   "cell_type": "code",
   "execution_count": 37,
   "id": "f9e7a952-8660-4408-aaf6-9bfe55a1d49b",
   "metadata": {},
   "outputs": [],
   "source": [
    "grade_counter = 0"
   ]
  },
  {
   "cell_type": "code",
   "execution_count": 38,
   "id": "51015185-9444-47a2-a23b-1843f2fd96e6",
   "metadata": {},
   "outputs": [],
   "source": [
    "grades = [98, 76, 71, 87, 83, 90, 57, 79, 82, 94]"
   ]
  },
  {
   "cell_type": "code",
   "execution_count": 39,
   "id": "3d26e08b-e14d-4ec3-8b3e-37d8358e62e1",
   "metadata": {},
   "outputs": [],
   "source": [
    "# Processing phase"
   ]
  },
  {
   "cell_type": "code",
   "execution_count": 40,
   "id": "c8c60641-5f01-4afb-a504-095d7d5e853e",
   "metadata": {},
   "outputs": [],
   "source": [
    "for grade in grades:\n",
    "    total += grade # add current grade to the running total\n",
    "    grade_counter += 1 # indicate that one more grade was processed"
   ]
  },
  {
   "cell_type": "code",
   "execution_count": 41,
   "id": "139f307f-4bf8-473d-961e-9fc5d728ebc7",
   "metadata": {},
   "outputs": [],
   "source": [
    "# termination phase"
   ]
  },
  {
   "cell_type": "code",
   "execution_count": 42,
   "id": "1e6def7c-a381-4860-9c12-87e808f318f5",
   "metadata": {},
   "outputs": [],
   "source": [
    "average = total / grade_counter"
   ]
  },
  {
   "cell_type": "code",
   "execution_count": 43,
   "id": "6e320003-2cc1-4945-b185-62be6d858186",
   "metadata": {},
   "outputs": [
    {
     "name": "stdout",
     "output_type": "stream",
     "text": [
      "Class average is 81.7\n"
     ]
    }
   ],
   "source": [
    "print(f'Class average is {average}')"
   ]
  },
  {
   "cell_type": "markdown",
   "id": "39ce1c6a-b131-4911-a33f-0344b82eeeb5",
   "metadata": {},
   "source": [
    "## 3.13 Built-In Function range: A Deeper Look"
   ]
  },
  {
   "cell_type": "markdown",
   "id": "9fda24e5-9ce7-4b5f-a8c5-0a4c4e538f1b",
   "metadata": {},
   "source": [
    "Function range's two-argument version produces a sequence of consecutive integers from its first argument's value up to, but not including, the second argument's value."
   ]
  },
  {
   "cell_type": "code",
   "execution_count": 44,
   "id": "15cb6127-9a73-441b-b34d-ec9d6f867312",
   "metadata": {},
   "outputs": [
    {
     "name": "stdout",
     "output_type": "stream",
     "text": [
      "5 6 7 8 9 "
     ]
    }
   ],
   "source": [
    "for number in range(5,10):\n",
    "    print(number, end=' ')"
   ]
  },
  {
   "cell_type": "markdown",
   "id": "b978aa15-04d7-409e-88ee-2e56fb4e927f",
   "metadata": {},
   "source": [
    "Function range's three-argument version produces a sequence of integers from its first argument's value up to, but not including, the second argument's value. It does this in increments of whatever the third value is. "
   ]
  },
  {
   "cell_type": "code",
   "execution_count": 45,
   "id": "c20e2b5d-4c51-42aa-a967-ddd2798bb2be",
   "metadata": {},
   "outputs": [
    {
     "name": "stdout",
     "output_type": "stream",
     "text": [
      "0 2 4 6 8 "
     ]
    }
   ],
   "source": [
    "for number in range(0, 10, 2):\n",
    "    print(number, end=' ')"
   ]
  },
  {
   "cell_type": "markdown",
   "id": "9d9959d1-c02d-4cd6-8cb0-b3bee79d2643",
   "metadata": {},
   "source": [
    "If a third argument is negative, the sequence will decrease from the first arguments value down to the second arguments value. Doing this in increments of whatever the third value is. "
   ]
  },
  {
   "cell_type": "code",
   "execution_count": 46,
   "id": "4d6e8fd6-cfb2-4b7f-971e-9969060081e8",
   "metadata": {},
   "outputs": [
    {
     "name": "stdout",
     "output_type": "stream",
     "text": [
      "10 8 6 4 2 "
     ]
    }
   ],
   "source": [
    "for number in range(10,0, -2):\n",
    "    print(number, end=' ')"
   ]
  },
  {
   "cell_type": "markdown",
   "id": "5b316761-1690-4a3d-85c7-16146a131d31",
   "metadata": {},
   "source": [
    "## 3.15 Break and continue Statements"
   ]
  },
  {
   "cell_type": "markdown",
   "id": "26c6f671-753e-479a-8993-b63556d1065a",
   "metadata": {},
   "source": [
    "\"Break\" tells the code to stop when a certain criteria is met."
   ]
  },
  {
   "cell_type": "code",
   "execution_count": 47,
   "id": "3e9373c5-a89c-442e-8a10-3a7a6b37a0fe",
   "metadata": {},
   "outputs": [
    {
     "name": "stdout",
     "output_type": "stream",
     "text": [
      "0 1 2 3 4 5 6 7 8 9 "
     ]
    }
   ],
   "source": [
    "for number in range(100):\n",
    "    if number == 10:\n",
    "        break\n",
    "    print(number, end=' ')"
   ]
  },
  {
   "cell_type": "markdown",
   "id": "4e568f64-d553-4e6a-8582-90f4aa1a3411",
   "metadata": {},
   "source": [
    "\"Continue\" tells the code to skip the remainder of the loop's suite"
   ]
  },
  {
   "cell_type": "code",
   "execution_count": 48,
   "id": "0f4f63da-764f-4173-b873-fd8e9141ceed",
   "metadata": {},
   "outputs": [
    {
     "name": "stdout",
     "output_type": "stream",
     "text": [
      "0 1 2 3 4 6 7 8 9 "
     ]
    }
   ],
   "source": [
    "for number in range(10):\n",
    "    if number ==5:\n",
    "        continue\n",
    "    print(number, end=' ')"
   ]
  },
  {
   "cell_type": "markdown",
   "id": "6f006555-562d-4471-999e-1c658639a809",
   "metadata": {},
   "source": [
    "## 3.16 Boolean Operators and, or and not"
   ]
  },
  {
   "cell_type": "markdown",
   "id": "14632727-ad9a-471d-9c8a-e74532b796bb",
   "metadata": {},
   "source": [
    "For \"and\", Both conditions must be true"
   ]
  },
  {
   "cell_type": "code",
   "execution_count": 49,
   "id": "c77ca309-89a1-43e6-a21e-15dc6b9016d9",
   "metadata": {},
   "outputs": [],
   "source": [
    "gender = 'Female'"
   ]
  },
  {
   "cell_type": "code",
   "execution_count": 50,
   "id": "54a2d33a-adac-4220-a091-afcb09dbbae8",
   "metadata": {},
   "outputs": [],
   "source": [
    "age = 70"
   ]
  },
  {
   "cell_type": "code",
   "execution_count": 51,
   "id": "4e1c748d-4d86-4af4-911b-169a1e12be29",
   "metadata": {},
   "outputs": [
    {
     "name": "stdout",
     "output_type": "stream",
     "text": [
      "Senior Female\n"
     ]
    }
   ],
   "source": [
    "if gender == 'Female' and age >= 65:\n",
    "    print('Senior Female')"
   ]
  },
  {
   "cell_type": "markdown",
   "id": "0f754e2d-03e0-4f14-a30c-1a01f093ffca",
   "metadata": {},
   "source": [
    "For \"or\", at lease one condition must be true"
   ]
  },
  {
   "cell_type": "code",
   "execution_count": 52,
   "id": "69f139b7-dc17-4c28-8c5e-8b153d657a46",
   "metadata": {},
   "outputs": [],
   "source": [
    "semester_average = 83"
   ]
  },
  {
   "cell_type": "code",
   "execution_count": 53,
   "id": "c44b4234-0530-4a66-a8ef-88b5f47e6761",
   "metadata": {},
   "outputs": [],
   "source": [
    "final_exam = 95"
   ]
  },
  {
   "cell_type": "code",
   "execution_count": 54,
   "id": "11ce94b7-cf08-4c50-a464-883dcb34dd13",
   "metadata": {},
   "outputs": [
    {
     "name": "stdout",
     "output_type": "stream",
     "text": [
      "Student gets an A\n"
     ]
    }
   ],
   "source": [
    "if semester_average >= 90 or final_exam >= 90:\n",
    "    print('Student gets an A')"
   ]
  },
  {
   "cell_type": "markdown",
   "id": "aa33e01f-dd7f-491a-87c5-4700646f2e34",
   "metadata": {},
   "source": [
    "\"Not\" reverses the meaning of the condition. "
   ]
  },
  {
   "cell_type": "code",
   "execution_count": 55,
   "id": "f064769f-02f6-40c7-839c-843d8b2b71ef",
   "metadata": {},
   "outputs": [],
   "source": [
    "grade = 87"
   ]
  },
  {
   "cell_type": "code",
   "execution_count": 56,
   "id": "71c81755-d6bb-4bde-b129-ca492d2f4aac",
   "metadata": {},
   "outputs": [
    {
     "name": "stdout",
     "output_type": "stream",
     "text": [
      "The next grade is 87\n"
     ]
    }
   ],
   "source": [
    "if not grade == 1:\n",
    "    print('The next grade is', grade)"
   ]
  },
  {
   "cell_type": "markdown",
   "id": "1a0a9ee7-903e-4e9e-8a10-6dceec074078",
   "metadata": {},
   "source": [
    "This can also be done using the following expression: !="
   ]
  },
  {
   "cell_type": "markdown",
   "id": "f9ca64f1-1927-474a-8646-f2145c2c3e00",
   "metadata": {},
   "source": [
    "Self Check:"
   ]
  },
  {
   "cell_type": "code",
   "execution_count": 57,
   "id": "2581585b-1a5e-4aed-86b2-10b1ca5c924b",
   "metadata": {},
   "outputs": [],
   "source": [
    "i = 1"
   ]
  },
  {
   "cell_type": "code",
   "execution_count": 58,
   "id": "8ecbfdf3-eb68-454a-a9aa-c16fa21001b6",
   "metadata": {},
   "outputs": [],
   "source": [
    "j = 2"
   ]
  },
  {
   "cell_type": "code",
   "execution_count": 59,
   "id": "64a7ac8f-ad76-49cc-8945-deaa28bb7aad",
   "metadata": {},
   "outputs": [],
   "source": [
    "k = 3"
   ]
  },
  {
   "cell_type": "code",
   "execution_count": 60,
   "id": "4bc85e9d-287e-4f51-ab3c-88cfcc38d227",
   "metadata": {},
   "outputs": [],
   "source": [
    "m = 2"
   ]
  },
  {
   "cell_type": "code",
   "execution_count": 61,
   "id": "80c005f4-9e0a-4ee6-b1db-89ecea0f923a",
   "metadata": {},
   "outputs": [
    {
     "data": {
      "text/plain": [
       "True"
      ]
     },
     "execution_count": 61,
     "metadata": {},
     "output_type": "execute_result"
    }
   ],
   "source": [
    "(i >= 1) and (j < 4)"
   ]
  },
  {
   "cell_type": "code",
   "execution_count": 62,
   "id": "0c98b4af-1185-439c-9021-de561cb095f2",
   "metadata": {},
   "outputs": [
    {
     "data": {
      "text/plain": [
       "False"
      ]
     },
     "execution_count": 62,
     "metadata": {},
     "output_type": "execute_result"
    }
   ],
   "source": [
    "(m <= 99) and (k < m)"
   ]
  },
  {
   "cell_type": "code",
   "execution_count": 63,
   "id": "e8f8a8da-6971-4381-b584-1a2d3706ec8c",
   "metadata": {},
   "outputs": [
    {
     "data": {
      "text/plain": [
       "True"
      ]
     },
     "execution_count": 63,
     "metadata": {},
     "output_type": "execute_result"
    }
   ],
   "source": [
    "(j >= i) or (k == m)"
   ]
  },
  {
   "cell_type": "code",
   "execution_count": 64,
   "id": "f343fd23-ce84-4fef-8ab8-cb3f2daf6a99",
   "metadata": {},
   "outputs": [
    {
     "data": {
      "text/plain": [
       "False"
      ]
     },
     "execution_count": 64,
     "metadata": {},
     "output_type": "execute_result"
    }
   ],
   "source": [
    "(k + m < j) or (3 - j >= k)"
   ]
  },
  {
   "cell_type": "code",
   "execution_count": 65,
   "id": "a6265873-b149-4985-9b67-d991f6c078ac",
   "metadata": {},
   "outputs": [
    {
     "data": {
      "text/plain": [
       "False"
      ]
     },
     "execution_count": 65,
     "metadata": {},
     "output_type": "execute_result"
    }
   ],
   "source": [
    "not (k > m)"
   ]
  },
  {
   "cell_type": "markdown",
   "id": "78d8de47-bd6e-4e4f-9ed3-30244dc1d5f1",
   "metadata": {},
   "source": [
    "## 3.17 Intro to Data Science: Measures of Central Tendency -- Mean, Median and Mode"
   ]
  },
  {
   "cell_type": "markdown",
   "id": "b80f5017-6858-4707-aa8c-c9245eb6a32f",
   "metadata": {},
   "source": [
    "For the vlaues 47, 95, 88, 73, 88, and 84, calculate the count, sum, and mean"
   ]
  },
  {
   "cell_type": "code",
   "execution_count": 66,
   "id": "575e0b90-ff69-4e16-9625-dc3a24fe3c16",
   "metadata": {},
   "outputs": [],
   "source": [
    "values = [47, 95, 88, 73, 88, 84]"
   ]
  },
  {
   "cell_type": "code",
   "execution_count": 67,
   "id": "08809aed-f332-4c4b-8d2b-faefd0fcccf9",
   "metadata": {},
   "outputs": [
    {
     "data": {
      "text/plain": [
       "6"
      ]
     },
     "execution_count": 67,
     "metadata": {},
     "output_type": "execute_result"
    }
   ],
   "source": [
    "len(values)"
   ]
  },
  {
   "cell_type": "code",
   "execution_count": 68,
   "id": "c677d8ca-96e5-4c03-ab9f-acc1069436d4",
   "metadata": {},
   "outputs": [
    {
     "data": {
      "text/plain": [
       "475"
      ]
     },
     "execution_count": 68,
     "metadata": {},
     "output_type": "execute_result"
    }
   ],
   "source": [
    "sum(values)"
   ]
  },
  {
   "cell_type": "code",
   "execution_count": 69,
   "id": "9d74ce93-85b3-4cb1-8413-8f1805ce62a5",
   "metadata": {},
   "outputs": [
    {
     "data": {
      "text/plain": [
       "79.16666666666667"
      ]
     },
     "execution_count": 69,
     "metadata": {},
     "output_type": "execute_result"
    }
   ],
   "source": [
    "sum(values)/len(values)"
   ]
  },
  {
   "cell_type": "markdown",
   "id": "e50b8555-fa75-40b8-ad5e-6f05459ec531",
   "metadata": {},
   "source": [
    "Using the same data as above, and by calling functions in the statistics module - calculate mean, median, and mode"
   ]
  },
  {
   "cell_type": "code",
   "execution_count": 70,
   "id": "a6ca67f9-69e2-46a2-b303-08ff3c9f2ac1",
   "metadata": {},
   "outputs": [],
   "source": [
    "import statistics"
   ]
  },
  {
   "cell_type": "code",
   "execution_count": 71,
   "id": "dab7e244-97c9-4000-bb67-f35c87eaf20b",
   "metadata": {},
   "outputs": [],
   "source": [
    "values = [47, 95, 88, 73, 88, 84]"
   ]
  },
  {
   "cell_type": "code",
   "execution_count": 72,
   "id": "8d32484d-52ce-47d0-90dc-e79508c1ca11",
   "metadata": {},
   "outputs": [
    {
     "data": {
      "text/plain": [
       "79.16666666666667"
      ]
     },
     "execution_count": 72,
     "metadata": {},
     "output_type": "execute_result"
    }
   ],
   "source": [
    "statistics.mean(values)"
   ]
  },
  {
   "cell_type": "code",
   "execution_count": 73,
   "id": "41e44513-b236-408a-a47c-15a352fce11b",
   "metadata": {},
   "outputs": [
    {
     "data": {
      "text/plain": [
       "86.0"
      ]
     },
     "execution_count": 73,
     "metadata": {},
     "output_type": "execute_result"
    }
   ],
   "source": [
    "statistics.median(values)"
   ]
  },
  {
   "cell_type": "code",
   "execution_count": 74,
   "id": "95d0f1eb-94d2-4fd6-97d8-ea8f8a3fc760",
   "metadata": {},
   "outputs": [
    {
     "data": {
      "text/plain": [
       "88"
      ]
     },
     "execution_count": 74,
     "metadata": {},
     "output_type": "execute_result"
    }
   ],
   "source": [
    "statistics.mode(values)"
   ]
  },
  {
   "cell_type": "markdown",
   "id": "2e231342-b29b-45f6-98ab-f18d8c2c35d0",
   "metadata": {},
   "source": [
    "Using your own set of data - from anywhere, made-up, example set, calculate sum, count, mean, median, mode"
   ]
  },
  {
   "cell_type": "code",
   "execution_count": 75,
   "id": "fe7b336e-ed11-48dc-ab4c-bda23319810a",
   "metadata": {},
   "outputs": [],
   "source": [
    "import statistics"
   ]
  },
  {
   "cell_type": "code",
   "execution_count": 76,
   "id": "ee42d60f-c4ed-4957-8207-845bc0ffae58",
   "metadata": {},
   "outputs": [],
   "source": [
    "values = [12, 13, 15, 16, 13, 19, 30, 28, 13, 14, 9]"
   ]
  },
  {
   "cell_type": "code",
   "execution_count": 77,
   "id": "a61e8f58-50c9-42d7-97b0-40d40d62d08f",
   "metadata": {},
   "outputs": [
    {
     "data": {
      "text/plain": [
       "11"
      ]
     },
     "execution_count": 77,
     "metadata": {},
     "output_type": "execute_result"
    }
   ],
   "source": [
    "len(values)"
   ]
  },
  {
   "cell_type": "code",
   "execution_count": 78,
   "id": "594527a8-9b8c-4361-b1b2-3c0f6c46959e",
   "metadata": {},
   "outputs": [
    {
     "data": {
      "text/plain": [
       "182"
      ]
     },
     "execution_count": 78,
     "metadata": {},
     "output_type": "execute_result"
    }
   ],
   "source": [
    "sum(values)"
   ]
  },
  {
   "cell_type": "code",
   "execution_count": 79,
   "id": "66fc039d-cddc-4a89-ba57-5729b4562423",
   "metadata": {},
   "outputs": [
    {
     "data": {
      "text/plain": [
       "16.545454545454547"
      ]
     },
     "execution_count": 79,
     "metadata": {},
     "output_type": "execute_result"
    }
   ],
   "source": [
    "statistics.mean(values)"
   ]
  },
  {
   "cell_type": "code",
   "execution_count": 80,
   "id": "c2dacc14-4b23-4878-bc4f-d71f95cff942",
   "metadata": {},
   "outputs": [
    {
     "data": {
      "text/plain": [
       "14"
      ]
     },
     "execution_count": 80,
     "metadata": {},
     "output_type": "execute_result"
    }
   ],
   "source": [
    "statistics.median(values)"
   ]
  },
  {
   "cell_type": "code",
   "execution_count": 81,
   "id": "270acc0f-6106-4a4c-bda4-298a39696e29",
   "metadata": {},
   "outputs": [
    {
     "data": {
      "text/plain": [
       "13"
      ]
     },
     "execution_count": 81,
     "metadata": {},
     "output_type": "execute_result"
    }
   ],
   "source": [
    "statistics.mode(values)"
   ]
  }
 ],
 "metadata": {
  "kernelspec": {
   "display_name": "Python 3 (ipykernel)",
   "language": "python",
   "name": "python3"
  },
  "language_info": {
   "codemirror_mode": {
    "name": "ipython",
    "version": 3
   },
   "file_extension": ".py",
   "mimetype": "text/x-python",
   "name": "python",
   "nbconvert_exporter": "python",
   "pygments_lexer": "ipython3",
   "version": "3.9.12"
  }
 },
 "nbformat": 4,
 "nbformat_minor": 5
}
