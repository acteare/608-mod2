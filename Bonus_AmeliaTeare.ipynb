{
 "cells": [
  {
   "cell_type": "markdown",
   "id": "a982100c-d58b-4d51-910b-39a63eb9eedc",
   "metadata": {},
   "source": [
    "# Workplace Application"
   ]
  },
  {
   "cell_type": "markdown",
   "id": "80ea8729-a79a-48d5-a121-d950a60a875a",
   "metadata": {},
   "source": [
    "My job is to analyze claims data and report our findings back to the clients within a reasonable time frame."
   ]
  },
  {
   "cell_type": "markdown",
   "id": "83899e79-fe0e-440a-a1ae-5135a8f176ed",
   "metadata": {},
   "source": [
    "One possible application would be to take a look at how long it takes me to complete each report from start to finish and then use those data points to find how long it takes me to complete a project on average. Some projects definitely take longer than others, but on average we are expected to complete projects within a week of receiving the necessary data. By completing this calculation, I would be able to determine if I am meeting my company's expectation or not. This would be used more as a self-reflection tool. "
   ]
  },
  {
   "cell_type": "markdown",
   "id": "f26f040d-20e3-4248-acb9-157bbb94ce88",
   "metadata": {},
   "source": [
    "(I don't actually have this data but I am going to include 100+ data points that would be possible)"
   ]
  },
  {
   "cell_type": "code",
   "execution_count": 8,
   "id": "fab5e936-a24e-4eee-baca-dea1ca706955",
   "metadata": {},
   "outputs": [],
   "source": [
    "values = [1, 1, 3, 5, 6, 4, 2, 6, 9, 7, 4, 2, 3, 4, 3, 5, 2, 3, 4, 5, 3, 1, 2, 6, 7, 4, 5, 9, 4, 1, 4, 3, 5, 2, 3, 4, 5, 3, 1, 2, 6, 7, 4, 5, 9, 4, 10, 8, 7, 7, 7, 3, 5, 2, 1, 1, 3, 5, 6, 4, 2, 6, 9, 7, 4, 2, 3, 4, 3, 5, 2, 3, 4, 5, 3, 1, 2, 6, 7, 4, 5, 9, 4, 1, 4, 3, 5, 2, 3, 4, 5, 3, 1, 2, 6, 7, 4, 5, 9, 4, 10, 8, 7, 7, 7, 3, 5, 2]"
   ]
  },
  {
   "cell_type": "code",
   "execution_count": 9,
   "id": "ade6a083-1aa3-4aa8-be35-9c0d7cf941d9",
   "metadata": {},
   "outputs": [
    {
     "data": {
      "text/plain": [
       "108"
      ]
     },
     "execution_count": 9,
     "metadata": {},
     "output_type": "execute_result"
    }
   ],
   "source": [
    "len(values)"
   ]
  },
  {
   "cell_type": "code",
   "execution_count": 10,
   "id": "e81af762-ba48-4c5a-869e-fb646fac01ac",
   "metadata": {},
   "outputs": [
    {
     "data": {
      "text/plain": [
       "474"
      ]
     },
     "execution_count": 10,
     "metadata": {},
     "output_type": "execute_result"
    }
   ],
   "source": [
    "sum(values)"
   ]
  },
  {
   "cell_type": "code",
   "execution_count": 11,
   "id": "bfae7f71-ca76-4f2b-8888-ed7f35cc6903",
   "metadata": {},
   "outputs": [],
   "source": [
    "import statistics"
   ]
  },
  {
   "cell_type": "code",
   "execution_count": 12,
   "id": "b5745b9c-03cb-411e-a7cd-1be4f0b90302",
   "metadata": {},
   "outputs": [
    {
     "data": {
      "text/plain": [
       "4.388888888888889"
      ]
     },
     "execution_count": 12,
     "metadata": {},
     "output_type": "execute_result"
    }
   ],
   "source": [
    "statistics.mean(values)"
   ]
  },
  {
   "cell_type": "code",
   "execution_count": 13,
   "id": "2fdc1b20-b0f1-41b8-a1ff-1a3f88acf278",
   "metadata": {},
   "outputs": [
    {
     "data": {
      "text/plain": [
       "4.0"
      ]
     },
     "execution_count": 13,
     "metadata": {},
     "output_type": "execute_result"
    }
   ],
   "source": [
    "statistics.median(values)"
   ]
  },
  {
   "cell_type": "code",
   "execution_count": 14,
   "id": "5e9669c2-1516-4ff5-96e2-7eb4aaf9d359",
   "metadata": {},
   "outputs": [
    {
     "data": {
      "text/plain": [
       "4"
      ]
     },
     "execution_count": 14,
     "metadata": {},
     "output_type": "execute_result"
    }
   ],
   "source": [
    "statistics.mode(values)"
   ]
  },
  {
   "cell_type": "markdown",
   "id": "75ee861d-3cf1-4f0b-bb65-f8122df89d98",
   "metadata": {},
   "source": [
    "According to the data, this would show that I take a little over 4 days to complete each project. This would tell me that I was exceeding the expectations of my company. \n",
    "\n",
    "However, if I were to find out that I was not meeting my company's expectations, I could then look at next steps. Maybe I look into my time management skills to see if those need improving. Maybe I talk to my manager to see if they have any suggestions. Maybe I reach out to co-workers for some advice. "
   ]
  }
 ],
 "metadata": {
  "kernelspec": {
   "display_name": "Python 3 (ipykernel)",
   "language": "python",
   "name": "python3"
  },
  "language_info": {
   "codemirror_mode": {
    "name": "ipython",
    "version": 3
   },
   "file_extension": ".py",
   "mimetype": "text/x-python",
   "name": "python",
   "nbconvert_exporter": "python",
   "pygments_lexer": "ipython3",
   "version": "3.9.12"
  }
 },
 "nbformat": 4,
 "nbformat_minor": 5
}
